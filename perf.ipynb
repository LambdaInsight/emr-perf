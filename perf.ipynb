{
 "cells": [
  {
   "cell_type": "code",
   "execution_count": 1,
   "metadata": {},
   "outputs": [
    {
     "name": "stdout",
     "output_type": "stream",
     "text": [
      "\r\n",
      "     active environment : venv\r\n",
      "    active env location : /Users/l1x/miniconda3/envs/venv\r\n",
      "            shell level : 2\r\n",
      "       user config file : /Users/l1x/.condarc\r\n",
      " populated config files : \r\n",
      "          conda version : 4.7.10\r\n",
      "    conda-build version : not installed\r\n",
      "         python version : 3.7.3.final.0\r\n",
      "       virtual packages : \r\n",
      "       base environment : /Users/l1x/miniconda3  (writable)\r\n",
      "           channel URLs : https://repo.anaconda.com/pkgs/main/osx-64\r\n",
      "                          https://repo.anaconda.com/pkgs/main/noarch\r\n",
      "                          https://repo.anaconda.com/pkgs/r/osx-64\r\n",
      "                          https://repo.anaconda.com/pkgs/r/noarch\r\n",
      "          package cache : /Users/l1x/miniconda3/pkgs\r\n",
      "                          /Users/l1x/.conda/pkgs\r\n",
      "       envs directories : /Users/l1x/miniconda3/envs\r\n",
      "                          /Users/l1x/.conda/envs\r\n",
      "               platform : osx-64\r\n",
      "             user-agent : conda/4.7.10 requests/2.22.0 CPython/3.7.3 Darwin/18.7.0 OSX/10.14.6\r\n",
      "                UID:GID : 501:20\r\n",
      "             netrc file : None\r\n",
      "           offline mode : False\r\n",
      "\r\n"
     ]
    }
   ],
   "source": [
    "!conda info"
   ]
  },
  {
   "cell_type": "code",
   "execution_count": 14,
   "metadata": {},
   "outputs": [
    {
     "data": {
      "text/plain": [
       "('0.25.1', '0.9.0', '1.17.0')"
      ]
     },
     "execution_count": 14,
     "metadata": {},
     "output_type": "execute_result"
    }
   ],
   "source": [
    "import datetime\n",
    "import pprint\n",
    "import re\n",
    "\n",
    "import boto3\n",
    "import matplotlib.pyplot as plt\n",
    "import numpy as np\n",
    "import pandas as pd\n",
    "import pandas_profiling\n",
    "import seaborn as sns\n",
    "from pyhive import presto\n",
    "from scipy import stats\n",
    "\n",
    "(pd.__version__,sns.__version__, np.__version__)"
   ]
  },
  {
   "cell_type": "markdown",
   "metadata": {},
   "source": [
    "### Generating some example data"
   ]
  },
  {
   "cell_type": "code",
   "execution_count": 3,
   "metadata": {},
   "outputs": [],
   "source": [
    "sample_size = 10_000_000\n",
    "\n",
    "f0 = np.random.randint(2, size=sample_size)\n",
    "aa_milne_arr = ['pooh', 'rabbit', 'piglet', 'christopher']\n",
    "f1 = np.random.choice(aa_milne_arr, size=sample_size, p=[0.5, 0.1, 0.1, 0.3])\n",
    "f2 = np.random.randint(5_000, size=sample_size)\n",
    "f3 = np.random.randint(100, size=sample_size)\n",
    "dl = ['2019-08-23 16:24:55.000', '2019-08-23 15:51:07.000',\n",
    "       '2019-08-23 15:41:30.000', '2019-08-23 15:36:45.000',\n",
    "       '2019-08-23 13:54:36.000', '2019-08-23 11:32:04.000',\n",
    "       '2019-08-23 11:15:20.000', '2019-08-23 11:07:46.000',\n",
    "       '2019-08-23 10:51:20.000', '2019-08-23 10:51:19.000',\n",
    "       '2019-08-23 10:33:24.000', '2019-08-23 09:50:18.000',\n",
    "       '2019-08-23 08:21:51.000', '2019-08-22 11:50:55.000',\n",
    "       '2019-08-22 11:36:52.000', '2019-08-22 11:31:24.000',\n",
    "       '2019-08-22 09:56:18.000', '2019-08-21 21:42:50.000',\n",
    "       '2019-08-21 21:11:08.000', '2019-08-21 21:09:18.000',\n",
    "       '2019-08-21 21:04:52.000', '2019-08-21 20:57:57.000',\n",
    "       '2019-08-21 20:27:09.000', '2019-08-21 20:06:50.000',\n",
    "       '2019-08-21 20:01:00.000', '2019-08-21 19:50:41.000',\n",
    "       '2019-08-21 17:53:00.000', '2019-08-21 17:38:45.000',\n",
    "       '2019-08-21 16:37:32.000', '2019-08-15 14:04:18.000',\n",
    "       '2019-08-15 13:42:21.000', '2019-08-15 13:36:25.000',\n",
    "       '2019-08-15 13:27:50.000', '2019-08-15 13:22:55.000']\n",
    "dd = [np.datetime64(d) for d in dl]\n",
    "f4 = np.random.choice(dd, size=sample_size)\n",
    "f5 = np.random.randint(500_000, size=sample_size)\n",
    "sha_arr = [\n",
    "    '33502f201fb635c6f05664bc2912b6b924756237',\n",
    "    '441373510f02e9672a1570a47fc3b222f2f95327',\n",
    "]\n",
    "f6 = np.random.choice(sha_arr, size=sample_size, p=[0.4, 0.6])\n",
    "cities_arr = [\n",
    "    'Seattle',\n",
    "    'Los Angeles',\n",
    "    'Portland',\n",
    "    'San Diego',\n",
    "    'Phoenix',\n",
    "    'Dallas',\n",
    "]\n",
    "f7 = np.random.choice(cities_arr, size=sample_size, p=[0.1, 0.2, 0.2, 0.2, 0.1, 0.2])\n",
    "f8 = np.random.random_sample((sample_size,))"
   ]
  },
  {
   "cell_type": "code",
   "execution_count": 4,
   "metadata": {},
   "outputs": [],
   "source": [
    "df = pd.DataFrame({\n",
    "    'bin_int': f0, 'milne': f1, 'rint_5_000': f2,\n",
    "    'rint_100': f3, 'rdates': f4, 'rint_500_000': f5,\n",
    "    'sha': f6, 'cities': f7, 'rfloat': f8,\n",
    "})"
   ]
  },
  {
   "cell_type": "code",
   "execution_count": 5,
   "metadata": {},
   "outputs": [],
   "source": [
    "df_sample = df.sample(1000)"
   ]
  },
  {
   "cell_type": "code",
   "execution_count": 8,
   "metadata": {},
   "outputs": [],
   "source": [
    "#df_sample.profile_report(style={'full_width':True})"
   ]
  },
  {
   "cell_type": "code",
   "execution_count": 9,
   "metadata": {},
   "outputs": [],
   "source": [
    "session = boto3.session.Session(profile_name='li-istvan', region_name='eu-west-1')\n",
    "s3_client = session.client('s3', )\n",
    "s3_resource = session.resource('s3')"
   ]
  },
  {
   "cell_type": "code",
   "execution_count": 17,
   "metadata": {},
   "outputs": [
    {
     "data": {
      "text/plain": [
       "['li-perf-test']"
      ]
     },
     "execution_count": 17,
     "metadata": {},
     "output_type": "execute_result"
    }
   ],
   "source": [
    "[bucket.name for bucket in s3_resource.buckets.all() if re.match('.*perf.*', bucket.name) is not None]"
   ]
  },
  {
   "cell_type": "code",
   "execution_count": null,
   "metadata": {},
   "outputs": [],
   "source": []
  },
  {
   "cell_type": "code",
   "execution_count": null,
   "metadata": {},
   "outputs": [],
   "source": []
  },
  {
   "cell_type": "code",
   "execution_count": null,
   "metadata": {},
   "outputs": [],
   "source": []
  }
 ],
 "metadata": {
  "@webio": {
   "lastCommId": null,
   "lastKernelId": null
  },
  "kernelspec": {
   "display_name": "Python 3",
   "language": "python",
   "name": "python3"
  },
  "language_info": {
   "codemirror_mode": {
    "name": "ipython",
    "version": 3
   },
   "file_extension": ".py",
   "mimetype": "text/x-python",
   "name": "python",
   "nbconvert_exporter": "python",
   "pygments_lexer": "ipython3",
   "version": "3.7.4"
  }
 },
 "nbformat": 4,
 "nbformat_minor": 2
}
