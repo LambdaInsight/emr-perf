{
 "cells": [
  {
   "cell_type": "code",
   "execution_count": 1,
   "metadata": {},
   "outputs": [
    {
     "name": "stdout",
     "output_type": "stream",
     "text": [
      "\r\n",
      "     active environment : venv\r\n",
      "    active env location : /Users/l1x/miniconda3/envs/venv\r\n",
      "            shell level : 2\r\n",
      "       user config file : /Users/l1x/.condarc\r\n",
      " populated config files : \r\n",
      "          conda version : 4.7.10\r\n",
      "    conda-build version : not installed\r\n",
      "         python version : 3.7.3.final.0\r\n",
      "       virtual packages : \r\n",
      "       base environment : /Users/l1x/miniconda3  (writable)\r\n",
      "           channel URLs : https://repo.anaconda.com/pkgs/main/osx-64\r\n",
      "                          https://repo.anaconda.com/pkgs/main/noarch\r\n",
      "                          https://repo.anaconda.com/pkgs/r/osx-64\r\n",
      "                          https://repo.anaconda.com/pkgs/r/noarch\r\n",
      "          package cache : /Users/l1x/miniconda3/pkgs\r\n",
      "                          /Users/l1x/.conda/pkgs\r\n",
      "       envs directories : /Users/l1x/miniconda3/envs\r\n",
      "                          /Users/l1x/.conda/envs\r\n",
      "               platform : osx-64\r\n",
      "             user-agent : conda/4.7.10 requests/2.22.0 CPython/3.7.3 Darwin/18.7.0 OSX/10.14.6\r\n",
      "                UID:GID : 501:20\r\n",
      "             netrc file : None\r\n",
      "           offline mode : False\r\n",
      "\r\n"
     ]
    }
   ],
   "source": [
    "!conda info"
   ]
  },
  {
   "cell_type": "code",
   "execution_count": 27,
   "metadata": {},
   "outputs": [
    {
     "data": {
      "text/plain": [
       "('0.25.1', '0.9.0', '1.17.0')"
      ]
     },
     "execution_count": 27,
     "metadata": {},
     "output_type": "execute_result"
    }
   ],
   "source": [
    "import datetime\n",
    "import pprint\n",
    "import re\n",
    "\n",
    "import boto3\n",
    "import matplotlib.pyplot as plt\n",
    "import numpy as np\n",
    "import pandas as pd\n",
    "import pandas_profiling\n",
    "import seaborn as sns\n",
    "\n",
    "from pyhive import presto\n",
    "from scipy import stats\n",
    "from botocore.exceptions import ClientError\n",
    "\n",
    "(pd.__version__,sns.__version__, np.__version__)"
   ]
  },
  {
   "cell_type": "code",
   "execution_count": 32,
   "metadata": {},
   "outputs": [],
   "source": [
    "## TODO PPRINT"
   ]
  },
  {
   "cell_type": "markdown",
   "metadata": {},
   "source": [
    "### Generating some example data"
   ]
  },
  {
   "cell_type": "code",
   "execution_count": 3,
   "metadata": {},
   "outputs": [],
   "source": [
    "sample_size = 10_000_000\n",
    "\n",
    "f0 = np.random.randint(2, size=sample_size)\n",
    "aa_milne_arr = ['pooh', 'rabbit', 'piglet', 'christopher']\n",
    "f1 = np.random.choice(aa_milne_arr, size=sample_size, p=[0.5, 0.1, 0.1, 0.3])\n",
    "f2 = np.random.randint(5_000, size=sample_size)\n",
    "f3 = np.random.randint(100, size=sample_size)\n",
    "dl = ['2019-08-23 16:24:55.000', '2019-08-23 15:51:07.000',\n",
    "       '2019-08-23 15:41:30.000', '2019-08-23 15:36:45.000',\n",
    "       '2019-08-23 13:54:36.000', '2019-08-23 11:32:04.000',\n",
    "       '2019-08-23 11:15:20.000', '2019-08-23 11:07:46.000',\n",
    "       '2019-08-23 10:51:20.000', '2019-08-23 10:51:19.000',\n",
    "       '2019-08-23 10:33:24.000', '2019-08-23 09:50:18.000',\n",
    "       '2019-08-23 08:21:51.000', '2019-08-22 11:50:55.000',\n",
    "       '2019-08-22 11:36:52.000', '2019-08-22 11:31:24.000',\n",
    "       '2019-08-22 09:56:18.000', '2019-08-21 21:42:50.000',\n",
    "       '2019-08-21 21:11:08.000', '2019-08-21 21:09:18.000',\n",
    "       '2019-08-21 21:04:52.000', '2019-08-21 20:57:57.000',\n",
    "       '2019-08-21 20:27:09.000', '2019-08-21 20:06:50.000',\n",
    "       '2019-08-21 20:01:00.000', '2019-08-21 19:50:41.000',\n",
    "       '2019-08-21 17:53:00.000', '2019-08-21 17:38:45.000',\n",
    "       '2019-08-21 16:37:32.000', '2019-08-15 14:04:18.000',\n",
    "       '2019-08-15 13:42:21.000', '2019-08-15 13:36:25.000',\n",
    "       '2019-08-15 13:27:50.000', '2019-08-15 13:22:55.000']\n",
    "dd = [np.datetime64(d) for d in dl]\n",
    "f4 = np.random.choice(dd, size=sample_size)\n",
    "f5 = np.random.randint(500_000, size=sample_size)\n",
    "sha_arr = [\n",
    "    '33502f201fb635c6f05664bc2912b6b924756237',\n",
    "    '441373510f02e9672a1570a47fc3b222f2f95327',\n",
    "]\n",
    "f6 = np.random.choice(sha_arr, size=sample_size, p=[0.4, 0.6])\n",
    "cities_arr = [\n",
    "    'Seattle',\n",
    "    'Los Angeles',\n",
    "    'Portland',\n",
    "    'San Diego',\n",
    "    'Phoenix',\n",
    "    'Dallas',\n",
    "]\n",
    "f7 = np.random.choice(cities_arr, size=sample_size, p=[0.1, 0.2, 0.2, 0.2, 0.1, 0.2])\n",
    "f8 = np.random.random_sample((sample_size,))"
   ]
  },
  {
   "cell_type": "code",
   "execution_count": 60,
   "metadata": {},
   "outputs": [
    {
     "data": {
      "text/html": [
       "<div>\n",
       "<style scoped>\n",
       "    .dataframe tbody tr th:only-of-type {\n",
       "        vertical-align: middle;\n",
       "    }\n",
       "\n",
       "    .dataframe tbody tr th {\n",
       "        vertical-align: top;\n",
       "    }\n",
       "\n",
       "    .dataframe thead th {\n",
       "        text-align: right;\n",
       "    }\n",
       "</style>\n",
       "<table border=\"1\" class=\"dataframe\">\n",
       "  <thead>\n",
       "    <tr style=\"text-align: right;\">\n",
       "      <th></th>\n",
       "      <th>bin_int</th>\n",
       "      <th>milne</th>\n",
       "      <th>rint_5_000</th>\n",
       "      <th>rint_100</th>\n",
       "      <th>rdates</th>\n",
       "      <th>rint_500_000</th>\n",
       "      <th>sha</th>\n",
       "      <th>cities</th>\n",
       "      <th>rfloat</th>\n",
       "    </tr>\n",
       "  </thead>\n",
       "  <tbody>\n",
       "    <tr>\n",
       "      <td>0</td>\n",
       "      <td>1</td>\n",
       "      <td>pooh</td>\n",
       "      <td>4859</td>\n",
       "      <td>35</td>\n",
       "      <td>2019-08-21 17:53:00</td>\n",
       "      <td>382713</td>\n",
       "      <td>441373510f02e9672a1570a47fc3b222f2f95327</td>\n",
       "      <td>Phoenix</td>\n",
       "      <td>0.697973</td>\n",
       "    </tr>\n",
       "    <tr>\n",
       "      <td>1</td>\n",
       "      <td>0</td>\n",
       "      <td>pooh</td>\n",
       "      <td>4081</td>\n",
       "      <td>90</td>\n",
       "      <td>2019-08-23 11:07:46</td>\n",
       "      <td>244716</td>\n",
       "      <td>441373510f02e9672a1570a47fc3b222f2f95327</td>\n",
       "      <td>Seattle</td>\n",
       "      <td>0.459704</td>\n",
       "    </tr>\n",
       "    <tr>\n",
       "      <td>2</td>\n",
       "      <td>0</td>\n",
       "      <td>christopher</td>\n",
       "      <td>3412</td>\n",
       "      <td>37</td>\n",
       "      <td>2019-08-23 16:24:55</td>\n",
       "      <td>106630</td>\n",
       "      <td>33502f201fb635c6f05664bc2912b6b924756237</td>\n",
       "      <td>San Diego</td>\n",
       "      <td>0.450522</td>\n",
       "    </tr>\n",
       "    <tr>\n",
       "      <td>3</td>\n",
       "      <td>1</td>\n",
       "      <td>pooh</td>\n",
       "      <td>4456</td>\n",
       "      <td>8</td>\n",
       "      <td>2019-08-22 09:56:18</td>\n",
       "      <td>145971</td>\n",
       "      <td>33502f201fb635c6f05664bc2912b6b924756237</td>\n",
       "      <td>San Diego</td>\n",
       "      <td>0.454024</td>\n",
       "    </tr>\n",
       "    <tr>\n",
       "      <td>4</td>\n",
       "      <td>1</td>\n",
       "      <td>christopher</td>\n",
       "      <td>3600</td>\n",
       "      <td>14</td>\n",
       "      <td>2019-08-23 11:15:20</td>\n",
       "      <td>497832</td>\n",
       "      <td>441373510f02e9672a1570a47fc3b222f2f95327</td>\n",
       "      <td>San Diego</td>\n",
       "      <td>0.038428</td>\n",
       "    </tr>\n",
       "  </tbody>\n",
       "</table>\n",
       "</div>"
      ],
      "text/plain": [
       "   bin_int        milne  rint_5_000  rint_100              rdates  \\\n",
       "0        1         pooh        4859        35 2019-08-21 17:53:00   \n",
       "1        0         pooh        4081        90 2019-08-23 11:07:46   \n",
       "2        0  christopher        3412        37 2019-08-23 16:24:55   \n",
       "3        1         pooh        4456         8 2019-08-22 09:56:18   \n",
       "4        1  christopher        3600        14 2019-08-23 11:15:20   \n",
       "\n",
       "   rint_500_000                                       sha     cities    rfloat  \n",
       "0        382713  441373510f02e9672a1570a47fc3b222f2f95327    Phoenix  0.697973  \n",
       "1        244716  441373510f02e9672a1570a47fc3b222f2f95327    Seattle  0.459704  \n",
       "2        106630  33502f201fb635c6f05664bc2912b6b924756237  San Diego  0.450522  \n",
       "3        145971  33502f201fb635c6f05664bc2912b6b924756237  San Diego  0.454024  \n",
       "4        497832  441373510f02e9672a1570a47fc3b222f2f95327  San Diego  0.038428  "
      ]
     },
     "execution_count": 60,
     "metadata": {},
     "output_type": "execute_result"
    }
   ],
   "source": [
    "df = pd.DataFrame({\n",
    "    'bin_int': f0, 'milne': f1, 'rint_5_000': f2,\n",
    "    'rint_100': f3, 'rdates': f4, 'rint_500_000': f5,\n",
    "    'sha': f6, 'cities': f7, 'rfloat': f8,\n",
    "})\n",
    "df.head()"
   ]
  },
  {
   "cell_type": "code",
   "execution_count": 5,
   "metadata": {},
   "outputs": [],
   "source": [
    "df_sample = df.sample(1000)"
   ]
  },
  {
   "cell_type": "code",
   "execution_count": 76,
   "metadata": {},
   "outputs": [],
   "source": [
    "file_name = \"data.csv\"\n",
    "df.to_csv(file_name, index=False, encoding='utf-8', header=False)"
   ]
  },
  {
   "cell_type": "code",
   "execution_count": 8,
   "metadata": {},
   "outputs": [],
   "source": [
    "#df_sample.profile_report(style={'full_width':True})"
   ]
  },
  {
   "cell_type": "code",
   "execution_count": 19,
   "metadata": {},
   "outputs": [],
   "source": [
    "#if you ever store credentials in code you are doing it wrong\n",
    "#either use instance profile to run inside AWS or use credential profile with local credential files\n",
    "aws_region = 'eu-west-1'\n",
    "aws_profile = 'li-istvan'\n",
    "session = boto3.session.Session(profile_name=aws_profile, region_name=aws_region)\n",
    "s3_client = session.client('s3', )\n",
    "s3_resource = session.resource('s3')"
   ]
  },
  {
   "cell_type": "code",
   "execution_count": 41,
   "metadata": {},
   "outputs": [
    {
     "name": "stdout",
     "output_type": "stream",
     "text": [
      "AWS S3 Bucket Already Created:  li-perf-test\n"
     ]
    }
   ],
   "source": [
    "aws_s3_bucket = 'li-perf-test'\n",
    "try:\n",
    "    s3_client.create_bucket(Bucket=aws_s3_bucket, CreateBucketConfiguration={'LocationConstraint': aws_region})\n",
    "except ClientError as e:\n",
    "    if 'BucketAlreadyOwnedByYou' not in str(e):\n",
    "        raise\n",
    "    else:\n",
    "        print(\"AWS S3 Bucket Already Created: \", aws_s3_bucket)"
   ]
  },
  {
   "cell_type": "code",
   "execution_count": 42,
   "metadata": {},
   "outputs": [
    {
     "data": {
      "text/plain": [
       "['li-perf-test']"
      ]
     },
     "execution_count": 42,
     "metadata": {},
     "output_type": "execute_result"
    }
   ],
   "source": [
    "[bucket.name for bucket in s3_resource.buckets.all() if re.match('.*perf.*', bucket.name) is not None]"
   ]
  },
  {
   "cell_type": "code",
   "execution_count": 58,
   "metadata": {},
   "outputs": [
    {
     "name": "stdout",
     "output_type": "stream",
     "text": [
      "File:  data/raw/data.csv\n",
      "File has been uploaded already\n"
     ]
    }
   ],
   "source": [
    "aws_s3_root_path='data'\n",
    "aws_s3_object_name = '{aws_s3_root_path}/raw/{file_name}'.format(\n",
    "    aws_s3_root_path=aws_s3_root_path, \n",
    "    file_name=file_name\n",
    ")\n",
    "print(\"File: \", aws_s3_object_name)\n",
    "try:\n",
    "    s3_resource.Object(aws_s3_bucket, aws_s3_object_name).load()\n",
    "except botocore.exceptions.ClientError as e:\n",
    "    if e.response['Error']['Code'] == \"404\":\n",
    "        s3_client.upload_file(file_name, aws_s3_bucket, aws_s3_object_name)\n",
    "    else:\n",
    "        raise\n",
    "except ClientError as e:\n",
    "    logging.error(e)\n",
    "else:\n",
    "    print(\"File has been uploaded already\")"
   ]
  },
  {
   "cell_type": "code",
   "execution_count": 59,
   "metadata": {},
   "outputs": [
    {
     "name": "stdout",
     "output_type": "stream",
     "text": [
      "['data/raw/data.csv']\n"
     ]
    }
   ],
   "source": [
    "aws_s3_path = '{aws_s3_root_path}/'.format(aws_s3_root_path=aws_s3_root_path)\n",
    "\n",
    "paginator = s3_client.get_paginator('list_objects')\n",
    "filters = { 'Bucket': aws_s3_bucket,\n",
    "            'Prefix': aws_s3_object_name }\n",
    "page_iterator = paginator.paginate(**filters)\n",
    "\n",
    "for page in page_iterator:\n",
    "    print([p['Key'] for p in page['Contents']])\n"
   ]
  },
  {
   "cell_type": "code",
   "execution_count": 61,
   "metadata": {},
   "outputs": [
    {
     "data": {
      "text/plain": [
       "Index(['bin_int', 'milne', 'rint_5_000', 'rint_100', 'rdates', 'rint_500_000',\n",
       "       'sha', 'cities', 'rfloat'],\n",
       "      dtype='object')"
      ]
     },
     "execution_count": 61,
     "metadata": {},
     "output_type": "execute_result"
    }
   ],
   "source": [
    "df.columns"
   ]
  },
  {
   "cell_type": "code",
   "execution_count": null,
   "metadata": {},
   "outputs": [],
   "source": [
    "'''\n",
    "CREATE DATABASE IF NOT EXISTS `perf`;\n",
    "'''"
   ]
  },
  {
   "cell_type": "code",
   "execution_count": 77,
   "metadata": {},
   "outputs": [
    {
     "name": "stdout",
     "output_type": "stream",
     "text": [
      "CREATE EXTERNAL TABLE `perf`.`test0`( \n",
      "   `bin_int` TINYINT\n",
      "   , `milne` STRING\n",
      "   , `rint_5_000` SMALLINT\n",
      "   , `rint_100` TINYINT\n",
      "   , `rdates` DATE\n",
      "   , `rint_500_000` INT\n",
      "   , `sha` STRING\n",
      "   , `cities` STRING\n",
      "   , `rfloat` FLOAT\n",
      ") \n",
      "ROW FORMAT DELIMITED \n",
      "FIELDS TERMINATED BY ',' \n",
      "LINES TERMINATED BY '\\n' \n",
      "STORED AS TEXTFILE \n",
      "LOCATION 's3://li-perf-test/data/raw/';\n",
      "\n"
     ]
    }
   ],
   "source": [
    "print('''CREATE EXTERNAL TABLE `perf`.`test0`( \n",
    "   `bin_int` TINYINT\n",
    "   , `milne` STRING\n",
    "   , `rint_5_000` SMALLINT\n",
    "   , `rint_100` TINYINT\n",
    "   , `rdates` DATE\n",
    "   , `rint_500_000` INT\n",
    "   , `sha` STRING\n",
    "   , `cities` STRING\n",
    "   , `rfloat` FLOAT\n",
    ") \n",
    "ROW FORMAT DELIMITED \n",
    "FIELDS TERMINATED BY ',' \n",
    "LINES TERMINATED BY '\\\\n' \n",
    "STORED AS TEXTFILE \n",
    "LOCATION 's3://{aws_s3_bucket}/{aws_s3_root_path}/raw/';\n",
    "'''.format(aws_s3_bucket=aws_s3_bucket, aws_s3_root_path=aws_s3_root_path))"
   ]
  },
  {
   "cell_type": "code",
   "execution_count": null,
   "metadata": {},
   "outputs": [],
   "source": []
  }
 ],
 "metadata": {
  "@webio": {
   "lastCommId": null,
   "lastKernelId": null
  },
  "kernelspec": {
   "display_name": "Python 3",
   "language": "python",
   "name": "python3"
  },
  "language_info": {
   "codemirror_mode": {
    "name": "ipython",
    "version": 3
   },
   "file_extension": ".py",
   "mimetype": "text/x-python",
   "name": "python",
   "nbconvert_exporter": "python",
   "pygments_lexer": "ipython3",
   "version": "3.7.4"
  }
 },
 "nbformat": 4,
 "nbformat_minor": 2
}
