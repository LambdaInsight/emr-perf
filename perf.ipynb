{
 "cells": [
  {
   "cell_type": "code",
   "execution_count": 1,
   "metadata": {},
   "outputs": [
    {
     "name": "stdout",
     "output_type": "stream",
     "text": [
      "\n",
      "     active environment : base\n",
      "    active env location : /Users/l1x/miniconda3\n",
      "            shell level : 1\n",
      "       user config file : /Users/l1x/.condarc\n",
      " populated config files : \n",
      "          conda version : 4.7.10\n",
      "    conda-build version : not installed\n",
      "         python version : 3.7.3.final.0\n",
      "       virtual packages : \n",
      "       base environment : /Users/l1x/miniconda3  (writable)\n",
      "           channel URLs : https://repo.anaconda.com/pkgs/main/osx-64\n",
      "                          https://repo.anaconda.com/pkgs/main/noarch\n",
      "                          https://repo.anaconda.com/pkgs/r/osx-64\n",
      "                          https://repo.anaconda.com/pkgs/r/noarch\n",
      "          package cache : /Users/l1x/miniconda3/pkgs\n",
      "                          /Users/l1x/.conda/pkgs\n",
      "       envs directories : /Users/l1x/miniconda3/envs\n",
      "                          /Users/l1x/.conda/envs\n",
      "               platform : osx-64\n",
      "             user-agent : conda/4.7.10 requests/2.22.0 CPython/3.7.3 Darwin/18.7.0 OSX/10.14.6\n",
      "                UID:GID : 501:20\n",
      "             netrc file : None\n",
      "           offline mode : False\n",
      "\n"
     ]
    }
   ],
   "source": [
    "!conda info"
   ]
  },
  {
   "cell_type": "code",
   "execution_count": 2,
   "metadata": {},
   "outputs": [
    {
     "data": {
      "text/plain": [
       "('0.25.1', '0.9.0', '1.17.0')"
      ]
     },
     "execution_count": 2,
     "metadata": {},
     "output_type": "execute_result"
    }
   ],
   "source": [
    "import datetime as dt\n",
    "import hashlib\n",
    "import pprint\n",
    "import re\n",
    "import os\n",
    "\n",
    "import boto3\n",
    "import matplotlib.pyplot as plt\n",
    "import numpy as np\n",
    "import pandas as pd\n",
    "import pandas_profiling\n",
    "import seaborn as sns\n",
    "\n",
    "from botocore.exceptions import ClientError\n",
    "from pyhive import presto\n",
    "from scipy import stats\n",
    "\n",
    "(pd.__version__,sns.__version__, np.__version__)"
   ]
  },
  {
   "cell_type": "code",
   "execution_count": 3,
   "metadata": {},
   "outputs": [],
   "source": [
    "pp = pprint.PrettyPrinter(indent=2)"
   ]
  },
  {
   "cell_type": "markdown",
   "metadata": {},
   "source": [
    "### Generating some example data"
   ]
  },
  {
   "cell_type": "code",
   "execution_count": 4,
   "metadata": {},
   "outputs": [],
   "source": [
    "def date_range(start_date=dt.date(2019, 9, 1), end_date = dt.date(2019, 9, 30)):\n",
    "    delta = end_date - start_date\n",
    "    dates = [start_date + dt.timedelta(days=i) for i in range(delta.days + 1)]\n",
    "    return [str(d) for d in dates]"
   ]
  },
  {
   "cell_type": "code",
   "execution_count": 5,
   "metadata": {},
   "outputs": [],
   "source": [
    "def gen_data(sample_size=10_000_000):\n",
    "    f0 = np.random.randint(2, size=sample_size)\n",
    "    aa_milne_arr = ['pooh', 'rabbit', 'piglet', 'christopher']\n",
    "    f1 = np.random.choice(aa_milne_arr, size=sample_size, p=[0.5, 0.1, 0.1, 0.3])\n",
    "    f2 = np.random.randint(5_000, size=sample_size)\n",
    "    ds_arr = date_range()\n",
    "    f3 = np.random.choice(ds_arr, size=sample_size)\n",
    "    dl = ['2019-08-23 16:24:55.000', '2019-08-23 15:51:07.000',\n",
    "           '2019-08-23 15:41:30.000', '2019-08-23 15:36:45.000',\n",
    "           '2019-08-06 13:54:36.000', '2019-08-02 11:32:04.000',\n",
    "           '2019-08-23 11:15:20.000', '2019-08-23 11:07:46.000',\n",
    "           '2019-08-12 10:51:20.000', '2019-08-23 10:51:19.000',\n",
    "           '2019-08-29 10:33:24.000', '2019-08-23 09:50:18.000',\n",
    "           '2019-08-23 08:21:51.000', '2019-08-11 11:50:55.000',\n",
    "           '2019-08-22 11:36:52.000', '2019-08-22 11:31:24.000',\n",
    "           '2019-08-22 09:56:18.000', '2019-08-21 21:42:50.000',\n",
    "           '2019-08-21 21:11:08.000', '2019-08-15 21:09:18.000',\n",
    "           '2019-08-17 21:04:52.000', '2019-08-21 20:57:57.000',\n",
    "           '2019-08-21 20:27:09.000', '2019-08-21 20:06:50.000',\n",
    "           '2019-08-12 20:01:00.000', '2019-08-07 19:50:41.000',\n",
    "           '2019-08-21 17:53:00.000', '2019-08-21 17:38:45.000',\n",
    "           '2019-08-01 16:37:32.000', '2019-08-15 14:04:18.000',\n",
    "           '2019-08-15 13:42:21.000', '2019-08-15 13:36:25.000',\n",
    "           '2019-08-15 13:27:50.000', '2019-08-20 13:22:55.000']\n",
    "    dd = [np.datetime64(d) for d in dl]\n",
    "    f4 = np.random.choice(dd, size=sample_size)\n",
    "    f5 = np.random.randint(500_000, size=sample_size)\n",
    "    sha_arr = [hashlib.sha224(bytes(s, 'UTF8')).hexdigest() for s in ds_arr]\n",
    "    f6 = np.random.choice(sha_arr, size=sample_size)\n",
    "    cities_arr = [\n",
    "        'Seattle',\n",
    "        'Los Angeles',\n",
    "        'Portland',\n",
    "        'San Diego',\n",
    "        'Phoenix',\n",
    "        'Dallas',\n",
    "        'Houston',\n",
    "        'Charlotte',\n",
    "        'Detroit',\n",
    "        'Nashville'\n",
    "    ]\n",
    "    f7 = np.random.choice(cities_arr, size=sample_size)\n",
    "    f8 = np.random.random_sample((sample_size,))\n",
    "    return (f0, f1, f2, f3, f4, f5, f6, f7, f8)"
   ]
  },
  {
   "cell_type": "code",
   "execution_count": 6,
   "metadata": {},
   "outputs": [
    {
     "data": {
      "text/html": [
       "<div>\n",
       "<style scoped>\n",
       "    .dataframe tbody tr th:only-of-type {\n",
       "        vertical-align: middle;\n",
       "    }\n",
       "\n",
       "    .dataframe tbody tr th {\n",
       "        vertical-align: top;\n",
       "    }\n",
       "\n",
       "    .dataframe thead th {\n",
       "        text-align: right;\n",
       "    }\n",
       "</style>\n",
       "<table border=\"1\" class=\"dataframe\">\n",
       "  <thead>\n",
       "    <tr style=\"text-align: right;\">\n",
       "      <th></th>\n",
       "      <th>bin_int</th>\n",
       "      <th>milne</th>\n",
       "      <th>rint_5_000</th>\n",
       "      <th>ds</th>\n",
       "      <th>rdates</th>\n",
       "      <th>rint_500_000</th>\n",
       "      <th>sha</th>\n",
       "      <th>cities</th>\n",
       "      <th>rfloat</th>\n",
       "    </tr>\n",
       "  </thead>\n",
       "  <tbody>\n",
       "    <tr>\n",
       "      <td>0</td>\n",
       "      <td>1</td>\n",
       "      <td>piglet</td>\n",
       "      <td>1997</td>\n",
       "      <td>2019-09-23</td>\n",
       "      <td>2019-08-23 11:15:20</td>\n",
       "      <td>149107</td>\n",
       "      <td>c17e819192baba61a8a0c49cc82ba012e3a0361dacffc3...</td>\n",
       "      <td>Seattle</td>\n",
       "      <td>0.919322</td>\n",
       "    </tr>\n",
       "    <tr>\n",
       "      <td>1</td>\n",
       "      <td>0</td>\n",
       "      <td>pooh</td>\n",
       "      <td>2798</td>\n",
       "      <td>2019-09-23</td>\n",
       "      <td>2019-08-15 21:09:18</td>\n",
       "      <td>437040</td>\n",
       "      <td>39acca9365153f85fe5fba70776de7980b1328aa5fa4ab...</td>\n",
       "      <td>Los Angeles</td>\n",
       "      <td>0.048787</td>\n",
       "    </tr>\n",
       "    <tr>\n",
       "      <td>2</td>\n",
       "      <td>1</td>\n",
       "      <td>christopher</td>\n",
       "      <td>2039</td>\n",
       "      <td>2019-09-23</td>\n",
       "      <td>2019-08-21 20:27:09</td>\n",
       "      <td>458579</td>\n",
       "      <td>5daf27ca22eef377897f1917cf87a57d9c0c28b7dcef76...</td>\n",
       "      <td>Portland</td>\n",
       "      <td>0.095792</td>\n",
       "    </tr>\n",
       "    <tr>\n",
       "      <td>3</td>\n",
       "      <td>0</td>\n",
       "      <td>pooh</td>\n",
       "      <td>1273</td>\n",
       "      <td>2019-09-16</td>\n",
       "      <td>2019-08-11 11:50:55</td>\n",
       "      <td>485624</td>\n",
       "      <td>38ae948be43dd5bfdd0f5ab70646fcfd59c540f3405637...</td>\n",
       "      <td>Nashville</td>\n",
       "      <td>0.226544</td>\n",
       "    </tr>\n",
       "    <tr>\n",
       "      <td>4</td>\n",
       "      <td>0</td>\n",
       "      <td>rabbit</td>\n",
       "      <td>4484</td>\n",
       "      <td>2019-09-15</td>\n",
       "      <td>2019-08-20 13:22:55</td>\n",
       "      <td>489752</td>\n",
       "      <td>dc76ddec562456db644decc4d6b7a8419ae081a7e0dddc...</td>\n",
       "      <td>Phoenix</td>\n",
       "      <td>0.252698</td>\n",
       "    </tr>\n",
       "  </tbody>\n",
       "</table>\n",
       "</div>"
      ],
      "text/plain": [
       "   bin_int        milne  rint_5_000          ds              rdates  \\\n",
       "0        1       piglet        1997  2019-09-23 2019-08-23 11:15:20   \n",
       "1        0         pooh        2798  2019-09-23 2019-08-15 21:09:18   \n",
       "2        1  christopher        2039  2019-09-23 2019-08-21 20:27:09   \n",
       "3        0         pooh        1273  2019-09-16 2019-08-11 11:50:55   \n",
       "4        0       rabbit        4484  2019-09-15 2019-08-20 13:22:55   \n",
       "\n",
       "   rint_500_000                                                sha  \\\n",
       "0        149107  c17e819192baba61a8a0c49cc82ba012e3a0361dacffc3...   \n",
       "1        437040  39acca9365153f85fe5fba70776de7980b1328aa5fa4ab...   \n",
       "2        458579  5daf27ca22eef377897f1917cf87a57d9c0c28b7dcef76...   \n",
       "3        485624  38ae948be43dd5bfdd0f5ab70646fcfd59c540f3405637...   \n",
       "4        489752  dc76ddec562456db644decc4d6b7a8419ae081a7e0dddc...   \n",
       "\n",
       "        cities    rfloat  \n",
       "0      Seattle  0.919322  \n",
       "1  Los Angeles  0.048787  \n",
       "2     Portland  0.095792  \n",
       "3    Nashville  0.226544  \n",
       "4      Phoenix  0.252698  "
      ]
     },
     "execution_count": 6,
     "metadata": {},
     "output_type": "execute_result"
    }
   ],
   "source": [
    "data = gen_data(sample_size=100)\n",
    "df = pd.DataFrame({\n",
    "    'bin_int': data[0], 'milne': data[1], 'rint_5_000': data[2],\n",
    "    'ds': data[3], 'rdates': data[4], 'rint_500_000': data[5],\n",
    "    'sha': data[6], 'cities': data[7], 'rfloat': data[8],\n",
    "})\n",
    "df.head()"
   ]
  },
  {
   "cell_type": "code",
   "execution_count": 7,
   "metadata": {},
   "outputs": [],
   "source": [
    "#df_sample = df.sample(10)"
   ]
  },
  {
   "cell_type": "code",
   "execution_count": 8,
   "metadata": {},
   "outputs": [],
   "source": [
    "if True == False:\n",
    "    for i in range(20):\n",
    "        data = gen_data(10_000_000)\n",
    "        df = pd.DataFrame({\n",
    "            'bin_int': data[0], 'milne': data[1],  'rint_5_000': data[2],\n",
    "            'ds': data[3],      'rdates': data[4], 'rint_500_000': data[5],\n",
    "            'sha': data[6],     'cities': data[7], 'rfloat': data[8],\n",
    "        })\n",
    "        file_name = \"data_{0}.csv\".format(i)\n",
    "        df.to_csv(file_name, index=False, encoding='utf-8', header=False)"
   ]
  },
  {
   "cell_type": "code",
   "execution_count": 9,
   "metadata": {},
   "outputs": [],
   "source": [
    "#if you ever store credentials in code you are doing it wrong\n",
    "#either use instance profile to run inside AWS or use credential profile with local credential files\n",
    "aws_region = 'eu-west-1'\n",
    "aws_profile = 'li-istvan'\n",
    "aws_credentials_file = '{0}/{1}'.format(os.environ['HOME'], '.aws/credentials')\n",
    "\n",
    "if os.access(aws_credentials_file, os.R_OK):\n",
    "    session = boto3.session.Session(profile_name=aws_profile, region_name=aws_region)\n",
    "else:\n",
    "    session = boto3.session.Session(region_name=aws_region)\n",
    "\n",
    "s3_client = session.client('s3', )\n",
    "s3_resource = session.resource('s3')"
   ]
  },
  {
   "cell_type": "code",
   "execution_count": 10,
   "metadata": {},
   "outputs": [
    {
     "name": "stdout",
     "output_type": "stream",
     "text": [
      "AWS S3 Bucket Already Created:  li-perf-test\n"
     ]
    }
   ],
   "source": [
    "aws_s3_bucket = 'li-perf-test'\n",
    "try:\n",
    "    s3_client.create_bucket(Bucket=aws_s3_bucket, CreateBucketConfiguration={'LocationConstraint': aws_region})\n",
    "except ClientError as e:\n",
    "    if 'BucketAlreadyOwnedByYou' not in str(e):\n",
    "        raise\n",
    "    else:\n",
    "        print(\"AWS S3 Bucket Already Created: \", aws_s3_bucket)"
   ]
  },
  {
   "cell_type": "code",
   "execution_count": 11,
   "metadata": {},
   "outputs": [
    {
     "data": {
      "text/plain": [
       "['li-perf-test']"
      ]
     },
     "execution_count": 11,
     "metadata": {},
     "output_type": "execute_result"
    }
   ],
   "source": [
    "[bucket.name for bucket in s3_resource.buckets.all() if re.match('.*perf.*', bucket.name) is not None]"
   ]
  },
  {
   "cell_type": "code",
   "execution_count": 12,
   "metadata": {},
   "outputs": [],
   "source": [
    "aws_s3_root_path='data'\n",
    "def upload_file_to_aws_s3(file_name):\n",
    "    aws_s3_object_name = '{aws_s3_root_path}/raw/{file_name}'.format(\n",
    "        aws_s3_root_path=aws_s3_root_path, \n",
    "        file_name=file_name\n",
    "    )\n",
    "    try:\n",
    "        s3_resource.Object(aws_s3_bucket, aws_s3_object_name).load()\n",
    "    except ClientError as e:\n",
    "        if e.response['Error']['Code'] == \"404\":\n",
    "            pp.pprint('Uploading starting: {0}'.format(aws_s3_object_name))\n",
    "            s3_client.upload_file(file_name, aws_s3_bucket, aws_s3_object_name)\n",
    "            pp.pprint('Uploading finished...{0}'.format(aws_s3_object_name))\n",
    "        else:\n",
    "            raise\n",
    "    else:\n",
    "        pp.pprint('File has been uploaded previously: {0}'.format(aws_s3_object_name))\n",
    "        \n",
    "    return 'ok'\n",
    "\n"
   ]
  },
  {
   "cell_type": "code",
   "execution_count": 13,
   "metadata": {},
   "outputs": [
    {
     "name": "stdout",
     "output_type": "stream",
     "text": [
      "'File has been uploaded previously: data/raw/data_3.csv'\n",
      "'File has been uploaded previously: data/raw/data_19.csv'\n",
      "'File has been uploaded previously: data/raw/data_1.csv'\n",
      "'File has been uploaded previously: data/raw/data_2.csv'\n",
      "'File has been uploaded previously: data/raw/data_18.csv'\n",
      "'File has been uploaded previously: data/raw/data_4.csv'\n",
      "'File has been uploaded previously: data/raw/data_0.csv'\n",
      "'File has been uploaded previously: data/raw/data_5.csv'\n",
      "'File has been uploaded previously: data/raw/data_7.csv'\n",
      "'File has been uploaded previously: data/raw/data_6.csv'\n",
      "'File has been uploaded previously: data/raw/data_13.csv'\n",
      "'File has been uploaded previously: data/raw/data_12.csv'\n",
      "'File has been uploaded previously: data/raw/data_10.csv'\n",
      "'File has been uploaded previously: data/raw/data_8.csv'\n",
      "'File has been uploaded previously: data/raw/data_11.csv'\n",
      "'File has been uploaded previously: data/raw/data_9.csv'\n",
      "'File has been uploaded previously: data/raw/data_15.csv'\n",
      "'File has been uploaded previously: data/raw/data_16.csv'\n",
      "'File has been uploaded previously: data/raw/data_14.csv'\n",
      "'File has been uploaded previously: data/raw/data_17.csv'\n"
     ]
    },
    {
     "data": {
      "text/plain": [
       "['ok',\n",
       " 'ok',\n",
       " 'ok',\n",
       " 'ok',\n",
       " 'ok',\n",
       " 'ok',\n",
       " 'ok',\n",
       " 'ok',\n",
       " 'ok',\n",
       " 'ok',\n",
       " 'ok',\n",
       " 'ok',\n",
       " 'ok',\n",
       " 'ok',\n",
       " 'ok',\n",
       " 'ok',\n",
       " 'ok',\n",
       " 'ok',\n",
       " 'ok',\n",
       " 'ok']"
      ]
     },
     "execution_count": 13,
     "metadata": {},
     "output_type": "execute_result"
    }
   ],
   "source": [
    "from multiprocessing import Pool\n",
    "pool = Pool(5)\n",
    "pool.map(upload_file_to_aws_s3, [x for x in os.listdir(\".\") if x.endswith(\".csv\")])"
   ]
  },
  {
   "cell_type": "code",
   "execution_count": 14,
   "metadata": {},
   "outputs": [],
   "source": [
    "def list_objectin_aws_s3(aws_s3_bucket, aws_s3_object_prefix):\n",
    "    paginator = s3_client.get_paginator('list_objects')\n",
    "    filters = { 'Bucket': aws_s3_bucket,\n",
    "                'Prefix': aws_s3_object_prefix }\n",
    "    page_iterator = paginator.paginate(**filters)\n",
    "    return [p['Key'] for page in page_iterator for p in page['Contents']]\n"
   ]
  },
  {
   "cell_type": "code",
   "execution_count": 15,
   "metadata": {},
   "outputs": [
    {
     "data": {
      "text/plain": [
       "['data/raw/data_0.csv',\n",
       " 'data/raw/data_1.csv',\n",
       " 'data/raw/data_10.csv',\n",
       " 'data/raw/data_11.csv',\n",
       " 'data/raw/data_12.csv',\n",
       " 'data/raw/data_13.csv',\n",
       " 'data/raw/data_14.csv',\n",
       " 'data/raw/data_15.csv',\n",
       " 'data/raw/data_16.csv',\n",
       " 'data/raw/data_17.csv',\n",
       " 'data/raw/data_18.csv',\n",
       " 'data/raw/data_19.csv',\n",
       " 'data/raw/data_2.csv',\n",
       " 'data/raw/data_3.csv',\n",
       " 'data/raw/data_4.csv',\n",
       " 'data/raw/data_5.csv',\n",
       " 'data/raw/data_6.csv',\n",
       " 'data/raw/data_7.csv',\n",
       " 'data/raw/data_8.csv',\n",
       " 'data/raw/data_9.csv']"
      ]
     },
     "execution_count": 15,
     "metadata": {},
     "output_type": "execute_result"
    }
   ],
   "source": [
    "list_objectin_aws_s3(aws_s3_bucket, 'data/')"
   ]
  },
  {
   "cell_type": "code",
   "execution_count": 16,
   "metadata": {},
   "outputs": [
    {
     "data": {
      "text/plain": [
       "Index(['bin_int', 'milne', 'rint_5_000', 'ds', 'rdates', 'rint_500_000', 'sha',\n",
       "       'cities', 'rfloat'],\n",
       "      dtype='object')"
      ]
     },
     "execution_count": 16,
     "metadata": {},
     "output_type": "execute_result"
    }
   ],
   "source": [
    "df.columns"
   ]
  },
  {
   "cell_type": "code",
   "execution_count": 17,
   "metadata": {},
   "outputs": [
    {
     "data": {
      "text/plain": [
       "'\\nCREATE DATABASE IF NOT EXISTS `perf`;\\n'"
      ]
     },
     "execution_count": 17,
     "metadata": {},
     "output_type": "execute_result"
    }
   ],
   "source": [
    "'''\n",
    "CREATE DATABASE IF NOT EXISTS `perf`;\n",
    "'''"
   ]
  },
  {
   "cell_type": "code",
   "execution_count": 18,
   "metadata": {},
   "outputs": [
    {
     "name": "stdout",
     "output_type": "stream",
     "text": [
      "CREATE EXTERNAL TABLE `perf`.`csv_test0`( \n",
      "   `bin_int` INT\n",
      "   , `milne` STRING\n",
      "   , `rint_5_000` INT\n",
      "   , `rint_100` INT\n",
      "   , `rdates` STRING\n",
      "   , `rint_500_000` INT\n",
      "   , `sha` STRING\n",
      "   , `cities` STRING\n",
      "   , `rfloat` FLOAT\n",
      ") \n",
      "ROW FORMAT DELIMITED \n",
      "FIELDS TERMINATED BY ',' \n",
      "LINES TERMINATED BY '\\n' \n",
      "STORED AS TEXTFILE \n",
      "LOCATION 's3://li-perf-test/data/raw/';\n",
      "\n"
     ]
    }
   ],
   "source": [
    "print('''CREATE EXTERNAL TABLE `perf`.`csv_test0`( \n",
    "   `bin_int` INT\n",
    "   , `milne` STRING\n",
    "   , `rint_5_000` INT\n",
    "   , `rint_100` INT\n",
    "   , `rdates` STRING\n",
    "   , `rint_500_000` INT\n",
    "   , `sha` STRING\n",
    "   , `cities` STRING\n",
    "   , `rfloat` FLOAT\n",
    ") \n",
    "ROW FORMAT DELIMITED \n",
    "FIELDS TERMINATED BY ',' \n",
    "LINES TERMINATED BY '\\\\n' \n",
    "STORED AS TEXTFILE \n",
    "LOCATION 's3://{aws_s3_bucket}/{aws_s3_root_path}/raw/';\n",
    "'''.format(aws_s3_bucket=aws_s3_bucket, aws_s3_root_path=aws_s3_root_path))"
   ]
  },
  {
   "cell_type": "code",
   "execution_count": 19,
   "metadata": {},
   "outputs": [
    {
     "name": "stdout",
     "output_type": "stream",
     "text": [
      "('CREATE EXTERNAL TABLE `perf`.`orc_test1`( \\n'\n",
      " '   `bin_int` INT\\n'\n",
      " '   , `milne` STRING\\n'\n",
      " '   , `rint_5_000` INT\\n'\n",
      " '   , `rint_100` INT\\n'\n",
      " '   , `rdates` STRING\\n'\n",
      " '   , `rint_500_000` INT\\n'\n",
      " '   , `sha` STRING\\n'\n",
      " '   , `cities` STRING\\n'\n",
      " '   , `rfloat` FLOAT\\n'\n",
      " ') \\n'\n",
      " 'STORED AS ORC\\n'\n",
      " \"LOCATION 's3://li-perf-test/data/orc_test1/';\\n\")\n"
     ]
    }
   ],
   "source": [
    "pp.pprint('''CREATE EXTERNAL TABLE `perf`.`orc_test1`( \n",
    "   `bin_int` INT\n",
    "   , `milne` STRING\n",
    "   , `rint_5_000` INT\n",
    "   , `rint_100` INT\n",
    "   , `rdates` STRING\n",
    "   , `rint_500_000` INT\n",
    "   , `sha` STRING\n",
    "   , `cities` STRING\n",
    "   , `rfloat` FLOAT\n",
    ") \n",
    "STORED AS ORC\n",
    "LOCATION 's3://{aws_s3_bucket}/{aws_s3_root_path}/orc_test1/';\n",
    "'''.format(aws_s3_bucket=aws_s3_bucket, aws_s3_root_path=aws_s3_root_path))"
   ]
  },
  {
   "cell_type": "code",
   "execution_count": 20,
   "metadata": {},
   "outputs": [
    {
     "data": {
      "text/plain": [
       "'INSERT INTO `perf`.`orc_test1` SELECT * FROM `perf`.`orc_test0`;'"
      ]
     },
     "execution_count": 20,
     "metadata": {},
     "output_type": "execute_result"
    }
   ],
   "source": [
    "'''INSERT INTO `perf`.`orc_test1` SELECT * FROM `perf`.`orc_test0`;'''"
   ]
  }
 ],
 "metadata": {
  "@webio": {
   "lastCommId": null,
   "lastKernelId": null
  },
  "kernelspec": {
   "display_name": "Python 3",
   "language": "python",
   "name": "python3"
  },
  "language_info": {
   "codemirror_mode": {
    "name": "ipython",
    "version": 3
   },
   "file_extension": ".py",
   "mimetype": "text/x-python",
   "name": "python",
   "nbconvert_exporter": "python",
   "pygments_lexer": "ipython3",
   "version": "3.7.2"
  }
 },
 "nbformat": 4,
 "nbformat_minor": 2
}
